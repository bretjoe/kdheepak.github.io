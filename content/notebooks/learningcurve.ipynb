{
 "cells": [
  {
   "cell_type": "code",
   "execution_count": 1,
   "metadata": {
    "collapsed": false
   },
   "outputs": [],
   "source": [
    "import matplotlib"
   ]
  },
  {
   "cell_type": "code",
   "execution_count": 2,
   "metadata": {
    "collapsed": false
   },
   "outputs": [
    {
     "data": {
      "text/plain": [
       "<matplotlib.rc_context at 0x107e1f6d0>"
      ]
     },
     "execution_count": 2,
     "metadata": {},
     "output_type": "execute_result"
    }
   ],
   "source": [
    "%matplotlib inline\n",
    "\n",
    "import matplotlib.pyplot as plt\n",
    "plt.xkcd()"
   ]
  },
  {
   "cell_type": "code",
   "execution_count": 3,
   "metadata": {
    "collapsed": false
   },
   "outputs": [],
   "source": [
    "font = {#'family' : 'normal',\n",
    "#        'weight' : 'bold',\n",
    "        'size'   : 22}\n",
    "\n",
    "matplotlib.rc('font', **font)"
   ]
  },
  {
   "cell_type": "code",
   "execution_count": 4,
   "metadata": {
    "collapsed": false
   },
   "outputs": [],
   "source": [
    "import numpy as np\n",
    "x = np.arange(0,1,0.1)"
   ]
  },
  {
   "cell_type": "code",
   "execution_count": 5,
   "metadata": {
    "collapsed": false
   },
   "outputs": [],
   "source": [
    "y1 = 40*x*x + 2\n",
    "y2 = 2*x*x + 5\n",
    "\n",
    "y3 = np.array([ 3 ,  3.1,   3.2,   1.5,   1.6,   3,   3.7,  7.5,  7.75, 8, 100])"
   ]
  },
  {
   "cell_type": "code",
   "execution_count": 6,
   "metadata": {
    "collapsed": false
   },
   "outputs": [],
   "source": [
    "x_ = np.array([ 0. ,  0.1,  0.2,  0.3,  0.4,  0.5,  0.6,  0.61, 0.7, 0.8,  0.9])"
   ]
  },
  {
   "cell_type": "code",
   "execution_count": 7,
   "metadata": {
    "collapsed": false
   },
   "outputs": [],
   "source": [
    "fig, axs = plt.subplots(1, 1, figsize=(16,10))\n",
    "\n",
    "ax = axs\n",
    "\n",
    "ax.plot(x, y1)\n",
    "ax.plot(x, y2)\n",
    "ax.plot(x_, y3)\n",
    "\n",
    "ax.set_ylim(0, 10);\n",
    "\n",
    "ax.legend(['Word', 'LaTeX', 'Markdown'], loc='upper left')\n",
    "\n",
    "ax.annotate(\n",
    "    'WHEN YOU START\\n USING MAKEFILES',\n",
    "    xy=(.2, 3), arrowprops=dict(arrowstyle='->'), xytext=(0.025, 1))\n",
    "\n",
    "ax.annotate(\n",
    "    'WHEN YOU START USING\\n UNSUPPORTED SYNTAX',\n",
    "    xy=(.6, 3.7), arrowprops=dict(arrowstyle='->'), xytext=(0.30, 4))\n",
    "\n",
    "ax.annotate(\n",
    "    'WHEN YOU DISCOVER\\n    PANDOCFILTERS',\n",
    "    xy=(.61, 7.5), arrowprops=dict(arrowstyle='->'), xytext=(0.61, 4.5))\n",
    "\n",
    "ax.annotate(\n",
    "    'WHEN YOU REALIZE YOU \\nHAVE TO LEARN HASKELL',\n",
    "    xy=(.8, 8), arrowprops=dict(arrowstyle='->'), xytext=(0.45, 8.5))\n",
    "\n",
    "ax.get_xaxis().set_ticks([])\n",
    "ax.get_yaxis().set_ticks([])\n",
    "\n",
    "ax.set_xlabel(\"DOCUMENT COMPLEXITY\")\n",
    "ax.set_ylabel(\"IMPLEMENTATION DIFFICULTY\")\n",
    "\n",
    "# ax.set_title(\"Skills required to write a paper in Word, LaTeX and Markdown\")\n",
    "\n",
    "plt.savefig(\"../images/learningcurve\", dpi=600)"
   ]
  },
  {
   "cell_type": "code",
   "execution_count": null,
   "metadata": {
    "collapsed": true
   },
   "outputs": [],
   "source": []
  },
  {
   "cell_type": "code",
   "execution_count": null,
   "metadata": {
    "collapsed": true
   },
   "outputs": [],
   "source": []
  }
 ],
 "metadata": {
  "kernelspec": {
   "display_name": "Python 2",
   "language": "python",
   "name": "python2"
  },
  "language_info": {
   "codemirror_mode": {
    "name": "ipython",
    "version": 2
   },
   "file_extension": ".py",
   "mimetype": "text/x-python",
   "name": "python",
   "nbconvert_exporter": "python",
   "pygments_lexer": "ipython2",
   "version": "2.7.11"
  }
 },
 "nbformat": 4,
 "nbformat_minor": 0
}
